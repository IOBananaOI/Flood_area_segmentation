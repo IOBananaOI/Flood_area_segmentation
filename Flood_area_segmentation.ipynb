{
  "nbformat": 4,
  "nbformat_minor": 0,
  "metadata": {
    "colab": {
      "provenance": []
    },
    "kernelspec": {
      "name": "python3",
      "display_name": "Python 3"
    },
    "language_info": {
      "name": "python"
    },
    "accelerator": "GPU",
    "gpuClass": "standard"
  },
  "cells": [
    {
      "cell_type": "code",
      "execution_count": 5,
      "metadata": {
        "id": "h2D_saaDaWRR"
      },
      "outputs": [],
      "source": [
        "import json\n",
        "api_token = {\"username\":\"iobananaoi\",\"key\":\"0cbdda23beeb18cbb57e9e88bf26bfd1\"}\n",
        "\n",
        "\n",
        "with open('/root/.kaggle/kaggle.json', 'w') as file:\n",
        "    json.dump(api_token, file)\n",
        "\n",
        "!chmod 600 /root/.kaggle/kaggle.json"
      ]
    },
    {
      "cell_type": "code",
      "source": [
        "import os\n",
        "import gc\n",
        "import kaggle \n",
        "import torch \n",
        "import cv2\n",
        "import copy\n",
        "import pandas as pd\n",
        "import matplotlib.pyplot as plt\n",
        "import numpy as np\n",
        "from skimage import io\n",
        "from datetime import date\n",
        "from torch import nn\n",
        "from zipfile import ZipFile\n",
        "from torch.utils.data import Dataset, DataLoader\n",
        "from os import listdir\n",
        "from os.path import isfile, join\n",
        "from torchvision.transforms import ToTensor, Compose, ToPILImage, CenterCrop\n",
        "from torchvision.transforms.functional import to_tensor, to_pil_image\n",
        "from torch.optim import lr_scheduler\n",
        "from PIL import Image"
      ],
      "metadata": {
        "id": "xBgk1H3ddc9S"
      },
      "execution_count": 155,
      "outputs": []
    },
    {
      "cell_type": "code",
      "source": [
        "!kaggle datasets download -d faizalkarim/flood-area-segmentation"
      ],
      "metadata": {
        "colab": {
          "base_uri": "https://localhost:8080/"
        },
        "id": "Shmo7T6Jefnf",
        "outputId": "a36bc664-066d-4f5a-efb8-c6f33fab2bc7"
      },
      "execution_count": 7,
      "outputs": [
        {
          "output_type": "stream",
          "name": "stdout",
          "text": [
            "Downloading flood-area-segmentation.zip to /content\n",
            " 99% 106M/107M [00:03<00:00, 39.2MB/s]\n",
            "100% 107M/107M [00:03<00:00, 31.0MB/s]\n"
          ]
        }
      ]
    },
    {
      "cell_type": "code",
      "source": [
        "f = ZipFile(\"/content/flood-area-segmentation.zip\")\n",
        "f.extractall(\"/content/data\")"
      ],
      "metadata": {
        "id": "nB9_OSB7euTQ"
      },
      "execution_count": 8,
      "outputs": []
    },
    {
      "cell_type": "code",
      "source": [
        "def img_rename(src, dim) -> None:\n",
        "    files = [f for f in listdir(src) if isfile(join(src, f))]\n",
        "    for i, name in enumerate(files):  \n",
        "\n",
        "        name = src+name\n",
        "        new_name = src + f\"{i}.{dim}\"\n",
        "        print(new_name)\n",
        "\n",
        "        os.rename(name, new_name)"
      ],
      "metadata": {
        "id": "inhAcjKSfmi9"
      },
      "execution_count": 9,
      "outputs": []
    },
    {
      "cell_type": "code",
      "source": [
        "batch_size = 32\n",
        "epochs = 15\n",
        "device = \"cuda\" if torch.cuda.is_available() else \"cpu\"\n",
        "device"
      ],
      "metadata": {
        "id": "HGwRsc1Logn3",
        "colab": {
          "base_uri": "https://localhost:8080/",
          "height": 36
        },
        "outputId": "d0534184-8bb8-4a3a-c570-4980f20c36d0"
      },
      "execution_count": 102,
      "outputs": [
        {
          "output_type": "execute_result",
          "data": {
            "text/plain": [
              "'cuda'"
            ],
            "application/vnd.google.colaboratory.intrinsic+json": {
              "type": "string"
            }
          },
          "metadata": {},
          "execution_count": 102
        }
      ]
    },
    {
      "cell_type": "code",
      "source": [
        "meta = pd.read_csv(\"/content/data/metadata.csv\")\n",
        "meta.drop(index=[0,2])"
      ],
      "metadata": {
        "colab": {
          "base_uri": "https://localhost:8080/",
          "height": 424
        },
        "id": "hKKMyBxqm06W",
        "outputId": "9e9232af-708f-44b1-dd30-62797879bdda"
      },
      "execution_count": 55,
      "outputs": [
        {
          "output_type": "execute_result",
          "data": {
            "text/plain": [
              "        Image      Mask\n",
              "1       1.jpg     1.png\n",
              "3       3.jpg     3.png\n",
              "4       4.jpg     4.png\n",
              "5       5.jpg     5.png\n",
              "6       6.jpg     6.png\n",
              "..        ...       ...\n",
              "285  1083.jpg  1083.png\n",
              "286  1084.jpg  1084.png\n",
              "287  1085.jpg  1085.png\n",
              "288  1086.jpg  1086.png\n",
              "289  1087.jpg  1087.png\n",
              "\n",
              "[288 rows x 2 columns]"
            ],
            "text/html": [
              "\n",
              "  <div id=\"df-930e9f2d-fb40-4be2-8beb-82be119fc07e\">\n",
              "    <div class=\"colab-df-container\">\n",
              "      <div>\n",
              "<style scoped>\n",
              "    .dataframe tbody tr th:only-of-type {\n",
              "        vertical-align: middle;\n",
              "    }\n",
              "\n",
              "    .dataframe tbody tr th {\n",
              "        vertical-align: top;\n",
              "    }\n",
              "\n",
              "    .dataframe thead th {\n",
              "        text-align: right;\n",
              "    }\n",
              "</style>\n",
              "<table border=\"1\" class=\"dataframe\">\n",
              "  <thead>\n",
              "    <tr style=\"text-align: right;\">\n",
              "      <th></th>\n",
              "      <th>Image</th>\n",
              "      <th>Mask</th>\n",
              "    </tr>\n",
              "  </thead>\n",
              "  <tbody>\n",
              "    <tr>\n",
              "      <th>1</th>\n",
              "      <td>1.jpg</td>\n",
              "      <td>1.png</td>\n",
              "    </tr>\n",
              "    <tr>\n",
              "      <th>3</th>\n",
              "      <td>3.jpg</td>\n",
              "      <td>3.png</td>\n",
              "    </tr>\n",
              "    <tr>\n",
              "      <th>4</th>\n",
              "      <td>4.jpg</td>\n",
              "      <td>4.png</td>\n",
              "    </tr>\n",
              "    <tr>\n",
              "      <th>5</th>\n",
              "      <td>5.jpg</td>\n",
              "      <td>5.png</td>\n",
              "    </tr>\n",
              "    <tr>\n",
              "      <th>6</th>\n",
              "      <td>6.jpg</td>\n",
              "      <td>6.png</td>\n",
              "    </tr>\n",
              "    <tr>\n",
              "      <th>...</th>\n",
              "      <td>...</td>\n",
              "      <td>...</td>\n",
              "    </tr>\n",
              "    <tr>\n",
              "      <th>285</th>\n",
              "      <td>1083.jpg</td>\n",
              "      <td>1083.png</td>\n",
              "    </tr>\n",
              "    <tr>\n",
              "      <th>286</th>\n",
              "      <td>1084.jpg</td>\n",
              "      <td>1084.png</td>\n",
              "    </tr>\n",
              "    <tr>\n",
              "      <th>287</th>\n",
              "      <td>1085.jpg</td>\n",
              "      <td>1085.png</td>\n",
              "    </tr>\n",
              "    <tr>\n",
              "      <th>288</th>\n",
              "      <td>1086.jpg</td>\n",
              "      <td>1086.png</td>\n",
              "    </tr>\n",
              "    <tr>\n",
              "      <th>289</th>\n",
              "      <td>1087.jpg</td>\n",
              "      <td>1087.png</td>\n",
              "    </tr>\n",
              "  </tbody>\n",
              "</table>\n",
              "<p>288 rows × 2 columns</p>\n",
              "</div>\n",
              "      <button class=\"colab-df-convert\" onclick=\"convertToInteractive('df-930e9f2d-fb40-4be2-8beb-82be119fc07e')\"\n",
              "              title=\"Convert this dataframe to an interactive table.\"\n",
              "              style=\"display:none;\">\n",
              "        \n",
              "  <svg xmlns=\"http://www.w3.org/2000/svg\" height=\"24px\"viewBox=\"0 0 24 24\"\n",
              "       width=\"24px\">\n",
              "    <path d=\"M0 0h24v24H0V0z\" fill=\"none\"/>\n",
              "    <path d=\"M18.56 5.44l.94 2.06.94-2.06 2.06-.94-2.06-.94-.94-2.06-.94 2.06-2.06.94zm-11 1L8.5 8.5l.94-2.06 2.06-.94-2.06-.94L8.5 2.5l-.94 2.06-2.06.94zm10 10l.94 2.06.94-2.06 2.06-.94-2.06-.94-.94-2.06-.94 2.06-2.06.94z\"/><path d=\"M17.41 7.96l-1.37-1.37c-.4-.4-.92-.59-1.43-.59-.52 0-1.04.2-1.43.59L10.3 9.45l-7.72 7.72c-.78.78-.78 2.05 0 2.83L4 21.41c.39.39.9.59 1.41.59.51 0 1.02-.2 1.41-.59l7.78-7.78 2.81-2.81c.8-.78.8-2.07 0-2.86zM5.41 20L4 18.59l7.72-7.72 1.47 1.35L5.41 20z\"/>\n",
              "  </svg>\n",
              "      </button>\n",
              "      \n",
              "  <style>\n",
              "    .colab-df-container {\n",
              "      display:flex;\n",
              "      flex-wrap:wrap;\n",
              "      gap: 12px;\n",
              "    }\n",
              "\n",
              "    .colab-df-convert {\n",
              "      background-color: #E8F0FE;\n",
              "      border: none;\n",
              "      border-radius: 50%;\n",
              "      cursor: pointer;\n",
              "      display: none;\n",
              "      fill: #1967D2;\n",
              "      height: 32px;\n",
              "      padding: 0 0 0 0;\n",
              "      width: 32px;\n",
              "    }\n",
              "\n",
              "    .colab-df-convert:hover {\n",
              "      background-color: #E2EBFA;\n",
              "      box-shadow: 0px 1px 2px rgba(60, 64, 67, 0.3), 0px 1px 3px 1px rgba(60, 64, 67, 0.15);\n",
              "      fill: #174EA6;\n",
              "    }\n",
              "\n",
              "    [theme=dark] .colab-df-convert {\n",
              "      background-color: #3B4455;\n",
              "      fill: #D2E3FC;\n",
              "    }\n",
              "\n",
              "    [theme=dark] .colab-df-convert:hover {\n",
              "      background-color: #434B5C;\n",
              "      box-shadow: 0px 1px 3px 1px rgba(0, 0, 0, 0.15);\n",
              "      filter: drop-shadow(0px 1px 2px rgba(0, 0, 0, 0.3));\n",
              "      fill: #FFFFFF;\n",
              "    }\n",
              "  </style>\n",
              "\n",
              "      <script>\n",
              "        const buttonEl =\n",
              "          document.querySelector('#df-930e9f2d-fb40-4be2-8beb-82be119fc07e button.colab-df-convert');\n",
              "        buttonEl.style.display =\n",
              "          google.colab.kernel.accessAllowed ? 'block' : 'none';\n",
              "\n",
              "        async function convertToInteractive(key) {\n",
              "          const element = document.querySelector('#df-930e9f2d-fb40-4be2-8beb-82be119fc07e');\n",
              "          const dataTable =\n",
              "            await google.colab.kernel.invokeFunction('convertToInteractive',\n",
              "                                                     [key], {});\n",
              "          if (!dataTable) return;\n",
              "\n",
              "          const docLinkHtml = 'Like what you see? Visit the ' +\n",
              "            '<a target=\"_blank\" href=https://colab.research.google.com/notebooks/data_table.ipynb>data table notebook</a>'\n",
              "            + ' to learn more about interactive tables.';\n",
              "          element.innerHTML = '';\n",
              "          dataTable['output_type'] = 'display_data';\n",
              "          await google.colab.output.renderOutput(dataTable, element);\n",
              "          const docLink = document.createElement('div');\n",
              "          docLink.innerHTML = docLinkHtml;\n",
              "          element.appendChild(docLink);\n",
              "        }\n",
              "      </script>\n",
              "    </div>\n",
              "  </div>\n",
              "  "
            ]
          },
          "metadata": {},
          "execution_count": 55
        }
      ]
    },
    {
      "cell_type": "markdown",
      "source": [
        "# Data processing"
      ],
      "metadata": {
        "id": "vJGWHZuZeHbg"
      }
    },
    {
      "cell_type": "code",
      "source": [
        "class DS(Dataset):\n",
        "    def __init__(self, transform):\n",
        "        self.transform = transform\n",
        "        self.meta = pd.read_csv(\"/content/data/metadata.csv\")\n",
        "        self.meta.drop(index=[0,2, 151], inplace=True)\n",
        "\n",
        "    def __len__(self):\n",
        "        return len(self.meta)\n",
        "\n",
        "    def __getitem__(self, idx):\n",
        "        img = Image.open(\"/content/data/Image/\"+self.meta.iloc[idx][\"Image\"])\n",
        "        label = Image.open(\"/content/data/Mask/\"+self.meta.iloc[idx][\"Mask\"])\n",
        "        \n",
        "        if self.transform:\n",
        "            img = self.transform(img)\n",
        "            label = self.transform(label)\n",
        "        \n",
        "        return img, label"
      ],
      "metadata": {
        "id": "uJpBoSHVdfzY"
      },
      "execution_count": 90,
      "outputs": []
    },
    {
      "cell_type": "code",
      "source": [
        "ds = DS(Compose([CenterCrop(304), ToTensor()]))"
      ],
      "metadata": {
        "id": "jLplb8w0nPkE"
      },
      "execution_count": 91,
      "outputs": []
    },
    {
      "cell_type": "code",
      "source": [
        "dl = DataLoader(ds, batch_size, shuffle=True)"
      ],
      "metadata": {
        "id": "I5clvoj8oALS"
      },
      "execution_count": 93,
      "outputs": []
    },
    {
      "cell_type": "code",
      "source": [
        "batch_num = len(ds) // batch_size"
      ],
      "metadata": {
        "id": "fvWALhc26qrg"
      },
      "execution_count": 94,
      "outputs": []
    },
    {
      "cell_type": "markdown",
      "source": [
        "# Model structure"
      ],
      "metadata": {
        "id": "2Yx9gdA11Unq"
      }
    },
    {
      "cell_type": "markdown",
      "source": [
        "### Consider various model structures such as U-Net and DEEPLABV3 and then compare the results"
      ],
      "metadata": {
        "id": "P6grnYuc1WaQ"
      }
    },
    {
      "cell_type": "code",
      "source": [
        "u_net = torch.hub.load('mateuszbuda/brain-segmentation-pytorch', 'unet', in_channels=3, out_channels=1, init_features=32, pretrained=True)"
      ],
      "metadata": {
        "colab": {
          "base_uri": "https://localhost:8080/"
        },
        "id": "gk6otYMFqGDe",
        "outputId": "fe77d5d8-4e46-44d7-ae38-f4d9b9bc54e3"
      },
      "execution_count": 104,
      "outputs": [
        {
          "output_type": "stream",
          "name": "stderr",
          "text": [
            "Using cache found in /root/.cache/torch/hub/mateuszbuda_brain-segmentation-pytorch_master\n"
          ]
        }
      ]
    },
    {
      "cell_type": "markdown",
      "source": [
        "# Training"
      ],
      "metadata": {
        "id": "bjR6NW0EkcrY"
      }
    },
    {
      "cell_type": "code",
      "source": [
        "def train(model, dataloader, loss_fn, optim, scheduler, epochs=epochs):\n",
        "    model.train()\n",
        "\n",
        "    best_model_wts = copy.deepcopy(model.state_dict())\n",
        "    best_loss = 10000\n",
        "    losses = []\n",
        "\n",
        "    for epoch in range(epochs):\n",
        "        print(f\"======= Epoch {epoch+1} =======\")\n",
        "        running_loss = 0.0\n",
        "\n",
        "        for batch, (X, y) in enumerate(dataloader):\n",
        "            X, y = X.to(device), y.to(device)\n",
        "            if batch < batch_num:\n",
        "                optim.zero_grad()\n",
        "                pred = model(X)\n",
        "                loss = loss_fn(pred, y)\n",
        "\n",
        "                loss.backward()\n",
        "                optim.step()\n",
        "\n",
        "                running_loss += loss.item()\n",
        "        running_loss /= batch_num\n",
        "        losses.append(running_loss)\n",
        "        print(f\"Loss: {running_loss:.4f}\")\n",
        "\n",
        "        if running_loss < best_loss:\n",
        "            best_loss = running_loss\n",
        "            best_model_wts = copy.deepcopy(model.state_dict())\n",
        "        \n",
        "    model.load_state_dict(best_model_wts)   \n",
        "\n",
        "    print(f\"Model state saved with the best loss: {best_loss:.4f}\")\n",
        "\n",
        "    return losses     "
      ],
      "metadata": {
        "id": "BN_XV8ynpAk0"
      },
      "execution_count": 105,
      "outputs": []
    },
    {
      "cell_type": "markdown",
      "source": [
        "## U_net"
      ],
      "metadata": {
        "id": "45PCkS4yqcI4"
      }
    },
    {
      "cell_type": "code",
      "source": [
        "model = u_net.to(device)\n",
        "optim = torch.optim.Adam(model.parameters(), lr=1e-3)\n",
        "scheduler = lr_scheduler.StepLR(optim, step_size=2, gamma=0.1)\n",
        "loss_fn = nn.BCELoss()"
      ],
      "metadata": {
        "id": "4tPy12b64Z4B"
      },
      "execution_count": 106,
      "outputs": []
    },
    {
      "cell_type": "code",
      "source": [
        "gc.collect()\n",
        "torch.cuda.empty_cache()"
      ],
      "metadata": {
        "id": "Rj9QmDrfKfJV"
      },
      "execution_count": 107,
      "outputs": []
    },
    {
      "cell_type": "code",
      "source": [
        "losses = train(model, dl, loss_fn, optim, scheduler, epochs)"
      ],
      "metadata": {
        "colab": {
          "base_uri": "https://localhost:8080/"
        },
        "id": "XjM1g2sbCoFs",
        "outputId": "dc398333-2ec9-41af-d333-ca57d0499400"
      },
      "execution_count": 108,
      "outputs": [
        {
          "output_type": "stream",
          "name": "stdout",
          "text": [
            "======= Epoch 1 =======\n"
          ]
        },
        {
          "output_type": "stream",
          "name": "stderr",
          "text": [
            "/usr/local/lib/python3.8/dist-packages/PIL/TiffImagePlugin.py:767: UserWarning: Possibly corrupt EXIF data.  Expecting to read 20 bytes but only got 19. Skipping tag 36867\n",
            "  warnings.warn(\n"
          ]
        },
        {
          "output_type": "stream",
          "name": "stdout",
          "text": [
            "Loss: 1.8741\n",
            "======= Epoch 2 =======\n",
            "Loss: 0.7805\n",
            "======= Epoch 3 =======\n",
            "Loss: 0.5822\n",
            "======= Epoch 4 =======\n",
            "Loss: 0.5596\n",
            "======= Epoch 5 =======\n",
            "Loss: 0.5081\n",
            "======= Epoch 6 =======\n",
            "Loss: 0.4753\n",
            "======= Epoch 7 =======\n",
            "Loss: 0.4502\n",
            "======= Epoch 8 =======\n",
            "Loss: 0.4475\n",
            "======= Epoch 9 =======\n",
            "Loss: 0.4308\n",
            "======= Epoch 10 =======\n",
            "Loss: 0.4194\n",
            "======= Epoch 11 =======\n",
            "Loss: 0.3919\n",
            "======= Epoch 12 =======\n",
            "Loss: 0.4134\n",
            "======= Epoch 13 =======\n",
            "Loss: 0.4053\n",
            "======= Epoch 14 =======\n",
            "Loss: 0.4134\n",
            "======= Epoch 15 =======\n",
            "Loss: 0.3788\n",
            "Model state saved with the best loss: 0.0000\n"
          ]
        }
      ]
    },
    {
      "cell_type": "markdown",
      "source": [
        "## Deeplabv3"
      ],
      "metadata": {
        "id": "Tm61zVQPqha8"
      }
    },
    {
      "cell_type": "code",
      "source": [
        "deeplabv3 = torch.hub.load('pytorch/vision:v0.10.0', 'deeplabv3_resnet50', pretrained=True)"
      ],
      "metadata": {
        "colab": {
          "base_uri": "https://localhost:8080/"
        },
        "id": "ClccXz5vqjmg",
        "outputId": "de27b8b9-10ee-45cc-c994-37aa4fa6105f"
      },
      "execution_count": 119,
      "outputs": [
        {
          "output_type": "stream",
          "name": "stderr",
          "text": [
            "Using cache found in /root/.cache/torch/hub/pytorch_vision_v0.10.0\n",
            "/usr/local/lib/python3.8/dist-packages/torchvision/models/_utils.py:208: UserWarning: The parameter 'pretrained' is deprecated since 0.13 and may be removed in the future, please use 'weights' instead.\n",
            "  warnings.warn(\n",
            "/usr/local/lib/python3.8/dist-packages/torchvision/models/_utils.py:223: UserWarning: Arguments other than a weight enum or `None` for 'weights' are deprecated since 0.13 and may be removed in the future. The current behavior is equivalent to passing `weights=DeepLabV3_ResNet50_Weights.COCO_WITH_VOC_LABELS_V1`. You can also use `weights=DeepLabV3_ResNet50_Weights.DEFAULT` to get the most up-to-date weights.\n",
            "  warnings.warn(msg)\n"
          ]
        }
      ]
    },
    {
      "cell_type": "code",
      "source": [
        "model = deeplabv3.to(device)\n",
        "optim = torch.optim.Adam(model.parameters(), lr=1e-3)\n",
        "scheduler = lr_scheduler.StepLR(optim, step_size=2, gamma=0.1)\n",
        "loss_fn = nn.BCELoss()"
      ],
      "metadata": {
        "id": "DOm35B-mqvxs"
      },
      "execution_count": 120,
      "outputs": []
    },
    {
      "cell_type": "code",
      "source": [
        "gc.collect()\n",
        "torch.cuda.empty_cache()"
      ],
      "metadata": {
        "id": "DawWGfn_qghn"
      },
      "execution_count": 146,
      "outputs": []
    },
    {
      "cell_type": "code",
      "source": [
        "img = to_tensor(Image.open(\"/content/data/Image/1000.jpg\")).to(device)"
      ],
      "metadata": {
        "id": "dnFocFkLupVj"
      },
      "execution_count": 147,
      "outputs": []
    },
    {
      "cell_type": "code",
      "source": [
        "plt.figure(figsize=(8, 5))\n",
        "plt.plot(losses, range(epochs))\n",
        "plt.show()"
      ],
      "metadata": {
        "colab": {
          "base_uri": "https://localhost:8080/",
          "height": 320
        },
        "id": "xQCmIENVDArj",
        "outputId": "6bcab6a1-88d0-4aac-ca32-e8af8b06a053"
      },
      "execution_count": 112,
      "outputs": [
        {
          "output_type": "display_data",
          "data": {
            "text/plain": [
              "<Figure size 576x360 with 1 Axes>"
            ],
            "image/png": "[encoded data removed]"
          },
          "metadata": {
            "needs_background": "light"
          }
        }
      ]
    },
    {
      "cell_type": "markdown",
      "source": [
        "# Results comparing"
      ],
      "metadata": {
        "id": "fw4n3Zdi0yKi"
      }
    },
    {
      "cell_type": "code",
      "source": [],
      "metadata": {
        "id": "ulHdtmCgp0vQ"
      },
      "execution_count": null,
      "outputs": []
    }
  ]
}